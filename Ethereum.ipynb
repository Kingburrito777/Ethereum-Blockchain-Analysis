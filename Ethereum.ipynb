{
  "metadata": {
    "kernelspec": {
      "name": "python"
    },
    "language_info": {
      "name": "python",
      "version": "3.5.1"
    }
  },
  "nbformat": 4,
  "nbformat_minor": 0,
  "cells": [
    {
      "cell_type": "markdown",
      "source": "Welcome to my kernel in the dataset I uploaded",
      "metadata": {}
    },
    {
      "cell_type": "markdown",
      "source": "## First: ##\n\n - grab our dependencies",
      "metadata": {}
    },
    {
      "cell_type": "code",
      "source": "import numpy as np # linear algebra\nimport pandas as pd # data processing, CSV file I/O (e.g. pd.read_csv)\nimport datetime as dt # converting timestamp to date\nimport seaborn as sns # Visualizer for data\nimport matplotlib.pyplot as plt # matplot\nimport matplotlib.dates as mdates # for plotting dates\n%matplotlib inline\nfrom subprocess import check_output\n# What are we working with?\nprint('File: \\n', check_output([\"ls\", \"../input\"]).decode(\"utf8\"))",
      "execution_count": null,
      "outputs": [],
      "metadata": {}
    },
    {
      "cell_type": "markdown",
      "source": "##We are going to take the CSVs one at a time and create a DataFrame for each of them##",
      "metadata": {}
    },
    {
      "cell_type": "code",
      "source": "# Chances are I wont get to all of them so you can comment out the ones you dont want\naddress = pd.read_csv('../input/address.csv')\nblocksize = pd.read_csv('../input/blocksize.csv')\netherprice = pd.read_csv('../input/etherprice.csv')\nhashrate = pd.read_csv('../input/hashrate.csv')\nmarketcap = pd.read_csv('../input/marketcap.csv')\ntx = pd.read_csv('../input/tx.csv')",
      "execution_count": null,
      "outputs": [],
      "metadata": {}
    },
    {
      "cell_type": "markdown",
      "source": "##We are going to want a method that converts the timestamp to readable data##",
      "metadata": {}
    },
    {
      "cell_type": "code",
      "source": "# the timestamp in the method is a dataframe column\n# it returns a list of the format which can then be ploted if needed\ndef timeConvert(timestamps):\n    timeValue = list(range(len(timestamps)))\n    for i in range(len(timestamps)):\n        timeValue[i] = (dt.datetime.fromtimestamp(timestamps[i]).strftime('%Y-%m-%d'))\n    return timeValue;",
      "execution_count": null,
      "outputs": [],
      "metadata": {}
    },
    {
      "cell_type": "markdown",
      "source": "##It seems the most reasonable thing to do is plot the prices!##\n**Note: they are USD, sorry foreigners**",
      "metadata": {}
    },
    {
      "cell_type": "code",
      "source": "# Lets see:\netherprice.columns",
      "execution_count": null,
      "outputs": [],
      "metadata": {}
    },
    {
      "cell_type": "code",
      "source": "etherprice['date-time'] = pd.DataFrame(timeConvert(etherprice['date-time']))\n# comment out above if you want to use timestamp\netherprice.head()\n#there we go!",
      "execution_count": null,
      "outputs": [],
      "metadata": {}
    },
    {
      "cell_type": "code",
      "source": "def plotit(data):\n    # makes numpy array\n    r = data.values.view(np.recarray)\n    #grab y-datas\n    df = r[:,1]\n    #crops to dates\n    r = r[:,0]\n    # to datetime\n    r = pd.to_datetime(r)\n    # make new plots\n    fig, ax = plt.subplots(figsize=(15, 7))\n    ax.plot(r, df)\n    # matplotlib date format object\n    hfmt = mdates.DateFormatter('%Y - - %m')\n    # format the ticks\n    ax.xaxis.set_major_locator(mdates.MonthLocator())\n    ax.xaxis.set_major_formatter(hfmt)\n    # format the coords message box\n    def yvals(x):\n        return '$%1.2f' % x\n    ax.format_xdata = hfmt\n    ax.format_ydata = yvals\n    # rotates and right aligns the x labels, and moves the bottom of the\n    # axes up to make room for them\n    fig.autofmt_xdate()\n    plt.show()",
      "execution_count": null,
      "outputs": [],
      "metadata": {}
    },
    {
      "cell_type": "code",
      "source": "plotit(etherprice)",
      "execution_count": null,
      "outputs": [],
      "metadata": {}
    },
    {
      "cell_type": "markdown",
      "source": "##Alright looks ok, we can do more detail##",
      "metadata": {}
    },
    {
      "cell_type": "code",
      "source": "address['date-time']=pd.DataFrame(timeConvert(address['date-time']))\nplotit(address)",
      "execution_count": null,
      "outputs": [],
      "metadata": {}
    },
    {
      "cell_type": "code",
      "source": "blocksize['date-time']=pd.DataFrame(timeConvert(blocksize['date-time']))\nplotit(blocksize)",
      "execution_count": null,
      "outputs": [],
      "metadata": {}
    },
    {
      "cell_type": "code",
      "source": "hashrate['date-time']=pd.DataFrame(timeConvert(hashrate['date-time']))\nplotit(hashrate)",
      "execution_count": null,
      "outputs": [],
      "metadata": {}
    },
    {
      "cell_type": "code",
      "source": "tx['date-time']=pd.DataFrame(timeConvert(tx['date-time']))\nplotit(tx)",
      "execution_count": null,
      "outputs": [],
      "metadata": {}
    },
    {
      "cell_type": "markdown",
      "source": "to be continued\n===",
      "metadata": {}
    },
    {
      "cell_type": "code",
      "source": "",
      "execution_count": null,
      "outputs": [],
      "metadata": {}
    }
  ]
}